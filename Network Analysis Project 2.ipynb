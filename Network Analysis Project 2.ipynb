{
 "cells": [
  {
   "cell_type": "code",
   "execution_count": 8,
   "metadata": {
    "id": "JVKQZjxlEriA"
   },
   "outputs": [],
   "source": [
    "#Loading Packages\n",
    "import math\n",
    "import numpy as np\n",
    "import numpy.linalg as lg\n",
    "import networkx as nx\n",
    "import matplotlib.pyplot as plt\n",
    "from community import community_louvain\n",
    "from collections import Counter"
   ]
  },
  {
   "cell_type": "markdown",
   "metadata": {
    "id": "yB2yCPbRGWhB"
   },
   "source": [
    "**Basic Statistics**"
   ]
  },
  {
   "cell_type": "code",
   "execution_count": 2,
   "metadata": {
    "colab": {
     "base_uri": "https://localhost:8080/"
    },
    "id": "wkfipsMwFAlw",
    "outputId": "017899c8-9e8d-45c7-ef8d-89f5f585e40b"
   },
   "outputs": [
    {
     "name": "stdout",
     "output_type": "stream",
     "text": [
      "Avg degree: 4.560975609756097\n",
      "Density: 0.05630834086118639\n",
      "Clustering: 0.5083694083694085\n",
      "Assortativity: 0.2370836136555753\n",
      "Is bipartite?  False\n",
      "Avg path length: 4.770852152965974\n",
      "Diameter: 12\n"
     ]
    }
   ],
   "source": [
    "G = nx.read_weighted_edgelist(\"Voles.txt\", nodetype=int)\n",
    "G = nx.Graph(G)  # undirected\n",
    "n, m = G.number_of_nodes(), G.number_of_edges()\n",
    "print(\"Avg degree:\", 2*m/n)\n",
    "print(\"Density:\", nx.density(G))\n",
    "print(\"Clustering:\", nx.average_clustering(G))\n",
    "print(\"Assortativity:\", nx.degree_assortativity_coefficient(G))\n",
    "print(\"Is bipartite? \", nx.is_bipartite(G))\n",
    "print(\"Avg path length:\", nx.average_shortest_path_length(G))\n",
    "print(\"Diameter:\", nx.diameter(G))"
   ]
  },
  {
   "cell_type": "code",
   "execution_count": null,
   "metadata": {},
   "outputs": [],
   "source": [
    "A = nx.to_numpy_array(G)"
   ]
  },
  {
   "cell_type": "markdown",
   "metadata": {
    "id": "sZRPbMF7FkUR"
   },
   "source": [
    "**Relative Abundancies**"
   ]
  },
  {
   "cell_type": "code",
   "execution_count": 6,
   "metadata": {
    "id": "o7y-AwoyFb_Z"
   },
   "outputs": [],
   "source": [
    "def freqG(A):\n",
    "    n = len(A) # nodes\n",
    "    e = np.ones(n)\n",
    "    k = A@e # degrees.\n",
    "    m = np.sum(k)/2 # edges\n",
    "    Lambda, Q = lg.eigh(A)\n",
    "    # A number of matrices/vectors we'll need in our computations\n",
    "    A2 = A@A\n",
    "    A3 = A2@A\n",
    "    A2a = A2*A\n",
    "    A2b = A2 - np.diag(k)\n",
    "    F10s = sum(A2b*(A2b-1))/2\n",
    "    t = np.diag(A3)/2\n",
    "    tk = t*(k-2)\n",
    "    kk = k*(k-1)\n",
    "    # The fragments F1...F15\n",
    "    P2 = sum(kk/2)\n",
    "    C3 = sum(t)/3\n",
    "    P3 = (k-1).T@A@(k-1)/2-C3*3\n",
    "    S13 = kk.T@(k-2)/6\n",
    "    C4 = (round(np.sum(Lambda**4)) - 4*P2 - 2*m)/8\n",
    "    T31 = sum(tk)\n",
    "    Diamond = sum(sum((A2a)*(A2a-1)))/4\n",
    "    C5 = (round(np.sum(Lambda**5)) - 30*C3 - 10*T31)/10 # Number of C5\n",
    "    Cr = tk.T@(k-3)/2\n",
    "    T41 = (k-2).T@F10s - 2*Diamond\n",
    "    Reindeer = (k-2).T@(A2*A)@(k-2)/2 - 2*Diamond\n",
    "    T32 = t.T@sum(A2b) - 6*C3 - 2*T31 - 4*Diamond\n",
    "    Bowtie = t.T@(t-1)/2-2*Diamond\n",
    "    House = sum(sum(A*A2*A3))/2-9*C3-2*T31-4*Diamond\n",
    "    C6 = (round(np.sum(Lambda**6)) - 2*m - 12*P2 -24*C3 - 6*P3 - 12*S13 - 48*C4 - 36*Diamond - 12*T41 - 24*Bowtie)/12\n",
    "    Count = np.array([P2, C3, P3, S13, C4, T31, Diamond, C5, Cr, T41, Reindeer, T32, Bowtie, House, C6])\n",
    "    return Count"
   ]
  },
  {
   "cell_type": "code",
   "execution_count": 7,
   "metadata": {
    "id": "LKf_LY7DFpPZ"
   },
   "outputs": [],
   "source": [
    "Count = freqG(A)"
   ]
  },
  {
   "cell_type": "code",
   "execution_count": 8,
   "metadata": {
    "colab": {
     "base_uri": "https://localhost:8080/"
    },
    "id": "ARkjQnJ0FtHw",
    "outputId": "089576cb-6c58-43dd-f304-5b876b28a00e"
   },
   "outputs": [
    {
     "name": "stdout",
     "output_type": "stream",
     "text": [
      "[  933.   159.  4472.  1654.   415.  2426.   679.  1287.  6483.  8459.\n",
      " 12008. 11337.  1651.  4885.  4097.]\n"
     ]
    }
   ],
   "source": [
    "print(Count)"
   ]
  },
  {
   "cell_type": "markdown",
   "metadata": {},
   "source": [
    "###                                                     Graph Motif Table (Vole Network)\n",
    "\n",
    "| Motif Code | Count  | Description                                                                 |\n",
    "|------------|--------|-----------------------------------------------------------------------------|\n",
    "| **P_2**      | 933    | A simple pairwise interaction of a path with 2 nodes (1 edge)               |\n",
    "| **C_3**      | 159    | A mutual interactions among 3 voles of a triangle                            |\n",
    "| **P_3**      | 4472   | One vole linking two others (indirect connection) of a path of 3 nodes     |\n",
    "| **S_{1,3}**     | 1654   | Hub like interaction of a star with 1 central node connected to 3 others |\n",
    "| **C_4**      | 415    | A closed loop of interactions among 4 voles of cycle of 4 nodes              |\n",
    "| **T_{3,1}**     | 2426   | Tailed triangle –> A triangle with an extra attached node                    |\n",
    "| **Diamond** | 679    | Two triangles sharing an edge – stronger, overlapping group                |\n",
    "| **C_5**      | 1287   | Cycle of 5 nodes – more complex closed interaction                        |\n",
    "| **C_r**      | 6483   | Cross or claw (central node with multiple branches) – centralized behavior |\n",
    "| **T_{4,1}**     | 8459   | Triangle with 2 tails –> triangle with two single-node extensions           |\n",
    "| **Reindeer**| 12008  | A complex motif resembling a reindeer shape which often indicates core-periphery|\n",
    "| **T_{3,2}**     | 11337  | Triangle with a chain of 2 nodes attached –> nested structure               |\n",
    "| **Bowtie**  | 1651   | Two triangles sharing a single node representing overlapping communities              |\n",
    "| **House**   | 4885   | A square with a triangle on top                      |\n",
    "| **C_6**      | 4097   | Cycle of 6 nodes – larger loop, less tight-knit than triangles             |\n",
    "\n"
   ]
  },
  {
   "cell_type": "code",
   "execution_count": 10,
   "metadata": {
    "colab": {
     "base_uri": "https://localhost:8080/"
    },
    "id": "BC5DnQ5tF5Q3",
    "outputId": "31eea9fa-0528-4d9a-b616-5ae17e89ff0e"
   },
   "outputs": [
    {
     "name": "stdout",
     "output_type": "stream",
     "text": [
      "Rel freq tri: 0.0017953929539295393\n",
      "Enrichment tri: 10.056371848755878\n",
      "Rel freq sq: 0.00023727030519250341\n",
      "Enrichment sq: 7.867399618933733\n"
     ]
    }
   ],
   "source": [
    "p = 2*187/(82*81)\n",
    "# triangle count\n",
    "tri = sum(nx.triangles(G).values())//3\n",
    "sq = 415\n",
    "# possible subsets\n",
    "triples = math.comb(82,3)\n",
    "quads    = math.comb(82,4)\n",
    "# expected\n",
    "exp_tri = triples * p**3\n",
    "exp_sq  = quads * 3 * p**4\n",
    "print(\"Rel freq tri:\", tri/triples)\n",
    "print(\"Enrichment tri:\", tri/exp_tri)\n",
    "print(\"Rel freq sq:\", sq/quads)\n",
    "print(\"Enrichment sq:\", sq/exp_sq)"
   ]
  },
  {
   "cell_type": "markdown",
   "metadata": {
    "id": "GbCnslEuGHs4"
   },
   "source": [
    "**Relative frequency:** is motif count divided by the number of possible node subsets of that size.\n",
    "\n",
    "**ER expected count** uses number of triangles ($\\binom{n}{3} \\cdot p^3$) and the number of squares ($\\binom{n}{4} \\cdot 3p^4$).\n",
    "\n",
    "Both motifs are enriched relative to random: triangles by $\\sim 4\\times$, squares by $\\sim 1.9 \\times$."
   ]
  },
  {
   "cell_type": "markdown",
   "metadata": {
    "id": "3Vft4gujGmjx"
   },
   "source": [
    "**Random Graph Comparison**"
   ]
  },
  {
   "cell_type": "code",
   "execution_count": 11,
   "metadata": {
    "id": "lVO8IEPxF_qT"
   },
   "outputs": [],
   "source": [
    "Trials = 50 # Average over at least 50 random graphs\n",
    "CountR = np.zeros(15)\n",
    "n = len(A) # nodes\n",
    "e = np.ones(n)\n",
    "k = A@e # degrees.\n",
    "m = np.sum(k)/2 # edges\n",
    "for i in range(Trials):\n",
    "    R=nx.erdos_renyi_graph(n,2*m/n/(n-1))  # Here we create a random graph\n",
    "    AR=nx.to_numpy_array(R)    # The rest of the loop just makes use of the formulae calculate earlier\n",
    "    f = freqG(AR)\n",
    "    CountR = CountR + f\n",
    "CountR = CountR/Trials"
   ]
  },
  {
   "cell_type": "code",
   "execution_count": 12,
   "metadata": {
    "colab": {
     "base_uri": "https://localhost:8080/"
    },
    "id": "gP-notlQGqNF",
    "outputId": "b81a74cd-7a0b-4a7c-e93e-c61bdca60307"
   },
   "outputs": [
    {
     "name": "stdout",
     "output_type": "stream",
     "text": [
      "[0.05402291 0.82632667 0.09296028 0.14371063 0.77456598 0.84854996\n",
      " 0.98503187 0.75644508 0.87482106 0.80346707 0.86540152 0.85762014\n",
      " 0.98595039 0.98056332 0.72342717]\n"
     ]
    }
   ],
   "source": [
    "abund=(Count-CountR)/(Count+CountR)\n",
    "print(abund)\n",
    "#If abund >.7 then we can call it a motif. If abund <-.5 it's an anti-motif"
   ]
  },
  {
   "cell_type": "markdown",
   "metadata": {},
   "source": [
    "**Comparison of the relative abundancies of the Voles dataset and the random graph**\n",
    "\n",
    "All motifs are relatively depleted in the vole network compared to the ER baseline (all enrichment < 1).\n",
    "\n",
    "The random graph’s relative abundance measure is an expectation per possible sub set, meaning that the vole counts, once normalized, fall well below these expectations.\n",
    "\n",
    "Also very simple motifs $(P_2, C_3, C_4)$ are most depleted, but larger, more complex motifs (Reindeer, $T_{3,2}, T_{4,1})$ are least depleted.\n",
    "\n",
    "This is interpreted as that the vole social network is sparser in small closed‑walk structures (triangles, 3‑paths) than an ER graph, but it retains a higher fraction of longer cycles and composite motifs.\n",
    "\n",
    "Biologically, this suggests that voles do not simply cluster in tight triads but instead form linear chains and extended loops, perhaps reflecting movement along habitat corridors rather than clique like social groups."
   ]
  },
  {
   "cell_type": "code",
   "execution_count": null,
   "metadata": {},
   "outputs": [],
   "source": []
  },
  {
   "cell_type": "markdown",
   "metadata": {
    "id": "ZLV5AMjxG1By"
   },
   "source": [
    "**Centrality Measures**"
   ]
  },
  {
   "cell_type": "code",
   "execution_count": 7,
   "metadata": {
    "id": "dgBKilpFGunm"
   },
   "outputs": [],
   "source": [
    "# # We compute the diffeent centrality measures using python inbuilt command.\n",
    "eig =nx.eigenvector_centrality(G)\n",
    "deg_cent = nx.degree_centrality(G)\n",
    "closeness = nx.closeness_centrality(G)\n",
    "between = nx.betweenness_centrality(G)"
   ]
  },
  {
   "cell_type": "code",
   "execution_count": 14,
   "metadata": {
    "colab": {
     "base_uri": "https://localhost:8080/"
    },
    "id": "gNkuPkzHG8PW",
    "outputId": "a3f30ad8-f94f-45ea-c7d0-900ce874965f"
   },
   "outputs": [
    {
     "name": "stdout",
     "output_type": "stream",
     "text": [
      "Eigenvector top5: [58, 56, 55, 59, 64]\n",
      "Degree top5: [58, 56, 59, 12, 21]\n",
      "Closeness top5: [22, 14, 23, 7, 21]\n",
      "Betweenness top5: [22, 7, 14, 12, 58]\n"
     ]
    }
   ],
   "source": [
    "eig  = nx.eigenvector_centrality(G, max_iter=500)\n",
    "deg_cent = nx.degree_centrality(G)\n",
    "closeness = nx.closeness_centrality(G)\n",
    "between = nx.betweenness_centrality(G)\n",
    "top5 = lambda c: sorted(c, key=c.get, reverse=True)[:5]\n",
    "print(\"Eigenvector top 5:\", top5(eig))\n",
    "print(\"Degree top 5:\", top5(deg_cent))\n",
    "print(\"Closeness top 5:\", top5(closeness))\n",
    "print(\"Betweenness top 5:\", top5(between))\n"
   ]
  },
  {
   "cell_type": "markdown",
   "metadata": {
    "id": "CfXWDZviHIHh"
   },
   "source": [
    "**Katz Centrality**"
   ]
  },
  {
   "cell_type": "code",
   "execution_count": 15,
   "metadata": {
    "colab": {
     "base_uri": "https://localhost:8080/"
    },
    "id": "LwfzIUKiHAxS",
    "outputId": "5d30fb93-5d43-44d3-e050-c05915d106c2"
   },
   "outputs": [
    {
     "name": "stdout",
     "output_type": "stream",
     "text": [
      "Top‑5 Katz centrality: [(58, 0.3280606982562251), (56, 0.30451671515032863), (59, 0.29682390784470836), (55, 0.2954392521405488), (64, 0.26964918608761795)]\n"
     ]
    }
   ],
   "source": [
    "#Using the largest eigenvalue\n",
    "lambda_max = max(abs(v) for v in nx.linalg.spectrum.adjacency_spectrum(G))\n",
    "alpha = 0.9 / lambda_max # attenuation factor. a value between < 1/largest eigenvalue\n",
    "beta  = 1.0 # baseline centrality\n",
    "\n",
    "katz_pi = nx.katz_centrality(\n",
    "    G,\n",
    "    alpha=alpha,\n",
    "    beta=beta,\n",
    "    max_iter=1000,\n",
    "    tol=1e-6,\n",
    "    normalized=True\n",
    ")\n",
    "\n",
    "katz_np = nx.katz_centrality_numpy(\n",
    "    G,\n",
    "    alpha=alpha,\n",
    "    beta=beta,\n",
    "    normalized=True\n",
    ")\n",
    "\n",
    "#checking for the top 5 nodes by Katz.\n",
    "from operator import itemgetter\n",
    "top5_katz = sorted(katz_np.items(), key=itemgetter(1), reverse=True)[:5]\n",
    "print(\"Top‑5 Katz centrality:\", top5_katz)"
   ]
  },
  {
   "cell_type": "markdown",
   "metadata": {
    "id": "2hMwE2llHT3J"
   },
   "source": [
    "Nodes with high Katz centrality not only have many neighbors (like degree centrality) but also sit in regions reachable by many walks (including via longer paths)."
   ]
  },
  {
   "cell_type": "code",
   "execution_count": 16,
   "metadata": {
    "colab": {
     "base_uri": "https://localhost:8080/",
     "height": 507
    },
    "id": "WuWJncQOHP0y",
    "outputId": "6703340d-4376-4e35-927d-fae930a0e42c"
   },
   "outputs": [
    {
     "data": {
      "image/png": "[encoded data removed]",
      "text/plain": [
       "<Figure size 800x500 with 1 Axes>"
      ]
     },
     "metadata": {},
     "output_type": "display_data"
    }
   ],
   "source": [
    "# Labels for the ranked nodes\n",
    "nodes = [\"1st\", \"2nd\", \"3rd\", \"4th\", \"5th\"]\n",
    "\n",
    "# Centrality values in the same order\n",
    "degree_vals      = [0.1481, 0.1235, 0.1235, 0.1111, 0.1111]\n",
    "closeness_vals   = [0.3214, 0.3202, 0.3045, 0.2945, 0.2914]\n",
    "betweenness_vals = [0.4486, 0.3839, 0.3518, 0.2908, 0.2716]\n",
    "eigenvector_vals = [0.3695, 0.3538, 0.3445, 0.3417, 0.3088]\n",
    "katz_vals        = [0.3281, 0.3045, 0.2968, 0.2954, 0.2696]\n",
    "\n",
    "measures = [\"Degree\", \"Closeness\", \"Betweenness\", \"Eigenvector\", \"Katz\"]\n",
    "all_vals = [degree_vals, closeness_vals, betweenness_vals, eigenvector_vals, katz_vals]\n",
    "\n",
    "x = range(len(nodes))\n",
    "width = 0.15\n",
    "\n",
    "plt.figure(figsize=(8, 5))\n",
    "for i, vals in enumerate(all_vals):\n",
    "    # shift each measure’s bars by i*width\n",
    "    positions = [xi + i*width for xi in x]\n",
    "    plt.bar(positions, vals, width=width, label=measures[i])\n",
    "\n",
    "# center x‑tick labels under the groups\n",
    "plt.xticks([xi + 2*width for xi in x], nodes)\n",
    "plt.xlabel(\"Ranked Nodes (1st to 5th)\")\n",
    "plt.ylabel(\"Centrality Value\")\n",
    "plt.title(\"Comparison of Centrality Measures for Top‑5 Voles\")\n",
    "plt.legend()\n",
    "plt.tight_layout()\n",
    "plt.show()\n"
   ]
  },
  {
   "cell_type": "markdown",
   "metadata": {
    "id": "rAw1CEWBHbr0"
   },
   "source": [
    "**Spectral bipartivity**\n",
    "\n",
    "Using Estrada Rodríguez Velázquez’s spectral bipartivity which gives 1 when the graph is bipartite."
   ]
  },
  {
   "cell_type": "code",
   "execution_count": 17,
   "metadata": {
    "colab": {
     "base_uri": "https://localhost:8080/"
    },
    "id": "lKtpOJ8AHZhd",
    "outputId": "23bff31b-fb4b-49f3-a1a7-1846373a8e1b"
   },
   "outputs": [
    {
     "name": "stdout",
     "output_type": "stream",
     "text": [
      "Spectral bipartivity β(G) = 0.5422\n"
     ]
    }
   ],
   "source": [
    "eigvals = np.linalg.eigvals(A)\n",
    "\n",
    "# 2) compute spectral bipartivity\n",
    "sc_even  = np.sum(np.cosh(eigvals))\n",
    "sc_total = np.sum(np.exp(eigvals))\n",
    "beta_G   = sc_even / sc_total\n",
    "print(f\"Spectral bipartivity β(G) = {beta_G:.4f}\")"
   ]
  },
  {
   "cell_type": "markdown",
   "metadata": {
    "id": "i29wogZyHyjq"
   },
   "source": [
    "**Community structure**"
   ]
  },
  {
   "cell_type": "code",
   "execution_count": 18,
   "metadata": {
    "colab": {
     "base_uri": "https://localhost:8080/"
    },
    "id": "nnOB7K-sHpN6",
    "outputId": "fc800a11-af65-4099-d7a9-0eac82fb76cf"
   },
   "outputs": [
    {
     "name": "stdout",
     "output_type": "stream",
     "text": [
      "Requirement already satisfied: python-louvain in /usr/local/lib/python3.11/dist-packages (0.16)\n",
      "Requirement already satisfied: networkx in /usr/local/lib/python3.11/dist-packages (from python-louvain) (3.4.2)\n",
      "Requirement already satisfied: numpy in /usr/local/lib/python3.11/dist-packages (from python-louvain) (2.0.2)\n"
     ]
    }
   ],
   "source": [
    "!pip install python-louvain"
   ]
  },
  {
   "cell_type": "code",
   "execution_count": 19,
   "metadata": {
    "colab": {
     "base_uri": "https://localhost:8080/",
     "height": 443
    },
    "id": "OplwmcnqH4Tj",
    "outputId": "35e3fe10-6ab6-4129-95e5-ed463bb4a3fe"
   },
   "outputs": [
    {
     "name": "stdout",
     "output_type": "stream",
     "text": [
      "Community sizes: Counter({0: 16, 4: 15, 3: 13, 6: 12, 5: 9, 2: 9, 1: 8})\n",
      "Modularity Q ≈ 0.709\n"
     ]
    },
    {
     "data": {
      "image/png": "[encoded data removed]",
      "text/plain": [
       "<Figure size 600x400 with 1 Axes>"
      ]
     },
     "metadata": {},
     "output_type": "display_data"
    }
   ],
   "source": [
    "partition = community_louvain.best_partition(G)\n",
    "sizes = Counter(partition.values())\n",
    "Q = community_louvain.modularity(partition, G)\n",
    "\n",
    "print(\"Community sizes:\", sizes)\n",
    "print(\"Modularity Q ≈\", round(Q, 3))\n",
    "\n",
    "plt.figure(figsize=(6,4))\n",
    "plt.bar(sizes.keys(), sizes.values())\n",
    "plt.xlabel(\"Community ID\")\n",
    "plt.ylabel(\"Number of Nodes\")\n",
    "plt.title(\"Community Size Distribution\")\n",
    "plt.xticks(list(sizes.keys()))\n",
    "plt.tight_layout()\n",
    "plt.show()"
   ]
  },
  {
   "cell_type": "markdown",
   "metadata": {
    "id": "xXzcVTdBIIip"
   },
   "source": [
    "**Interpretation**\n",
    "\n",
    "These seven communities partition the 82 voles into spatially cohesive subgroups, reflecting localized trapping sites.\n",
    "\n",
    "The modularity shows that voles form tight clusters with relatively few “bridge” edges between groups; management or disease spread models should focus within these modules."
   ]
  },
  {
   "cell_type": "markdown",
   "metadata": {
    "id": "Rw6B8shDISCc"
   },
   "source": [
    "**Robustness under targetted attack**"
   ]
  },
  {
   "cell_type": "code",
   "execution_count": 20,
   "metadata": {
    "colab": {
     "base_uri": "https://localhost:8080/",
     "height": 472
    },
    "id": "g4o2tTOAIEbd",
    "outputId": "e6fc8b6f-d2da-49a7-9db5-41295bca5aa2"
   },
   "outputs": [
    {
     "data": {
      "image/png": "[encoded data removed]",
      "text/plain": [
       "<Figure size 640x480 with 1 Axes>"
      ]
     },
     "metadata": {},
     "output_type": "display_data"
    }
   ],
   "source": [
    "nodes_by_deg = sorted(G.degree, key=lambda x: x[1], reverse=True)\n",
    "lcc_sizes = []\n",
    "H = G.copy()\n",
    "\n",
    "for i, (node, deg) in enumerate(nodes_by_deg, start=1):\n",
    "    H.remove_node(node)\n",
    "    if H.number_of_nodes() == 0:\n",
    "        # no nodes left → largest component size = 0\n",
    "        lcc_sizes.append(0)\n",
    "        break\n",
    "    # otherwise compute LCC size\n",
    "    lcc = max(nx.connected_components(H), key=len)\n",
    "    lcc_sizes.append(len(lcc))\n",
    "\n",
    "# plot\n",
    "plt.plot(range(1, len(lcc_sizes) + 1), lcc_sizes, marker='o')\n",
    "plt.xlabel(\"Number of highest‐degree nodes removed\")\n",
    "plt.ylabel(\"Size of largest component\")\n",
    "plt.title(\"Robustness under targeted attack\")\n",
    "plt.show()\n"
   ]
  },
  {
   "cell_type": "markdown",
   "metadata": {
    "id": "h4JE8NmjIm9V"
   },
   "source": [
    "Robustness under targeted attacks shows how quickly the network fragments if you 'knock out' the most connected voles. These 'hub' voles are critical connectors meaning that their removal (for example, by predation or disease) would quickly fragment the social structure. The robustness curve quantifies the fragility of the network, as it shows how disease control strategies targeting key individuals could effectively break transmission chains.\n",
    "\n",
    "Reference: Robustness under attack: Albert et al. (2000) “Error and attack tolerance of complex networks”"
   ]
  },
  {
   "cell_type": "markdown",
   "metadata": {
    "id": "UkbZjiwsJCYb"
   },
   "source": [
    "**Conclusion**\n",
    "\n",
    "The vole social graph is moderately clustered $(C \\approx 0.51)$ with clear community structure $(Q \\approx 0.71)$, reflecting that voles form tight local groups but also occasional “bridge” individuals (high betweenness) who connect subgroups.\n",
    "\n",
    "Management implications: Identifying high betweenness voles (e.g. node 18) could be key to understanding disease or information spread through the population.\n",
    "\n",
    "Original angle: one could correlate centrality with individual attributes (age, sex) to test behavioral hypotheses."
   ]
  },
  {
   "cell_type": "code",
   "execution_count": null,
   "metadata": {},
   "outputs": [],
   "source": []
  }
 ],
 "metadata": {
  "colab": {
   "provenance": []
  },
  "kernelspec": {
   "display_name": "Python 3 (ipykernel)",
   "language": "python",
   "name": "python3"
  },
  "language_info": {
   "codemirror_mode": {
    "name": "ipython",
    "version": 3
   },
   "file_extension": ".py",
   "mimetype": "text/x-python",
   "name": "python",
   "nbconvert_exporter": "python",
   "pygments_lexer": "ipython3",
   "version": "3.11.2"
  }
 },
 "nbformat": 4,
 "nbformat_minor": 1
}
